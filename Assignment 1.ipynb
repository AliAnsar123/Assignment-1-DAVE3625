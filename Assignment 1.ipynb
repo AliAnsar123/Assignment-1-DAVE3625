{
 "cells": [
  {
   "cell_type": "markdown",
   "source": [
    "# Assignment 1 DAVE3625\n",
    "## Students: \n",
    "- S345867 Mohammed Ali Ansar\n",
    "- S341825 Lavrans Bjerkestrand\n",
    "\n"
   ],
   "metadata": {}
  },
  {
   "cell_type": "markdown",
   "source": [
    "# Task 1.1\n",
    "5 unique features: \n",
    "1. Ledig_Kapasitet\n",
    "2. Forsinkelse_Ankomst_Holdeplass_Fra\n",
    "3. Forsinkelse_Avgang_Holdeplass_Fra\n",
    "4. Tid_Brukt_På_Holdeplass\n",
    "5. "
   ],
   "metadata": {}
  },
  {
   "cell_type": "code",
   "execution_count": 1,
   "source": [
    "%matplotlib inline\n",
    "import pandas as pd\n",
    "import matplotlib\n",
    "from matplotlib import pyplot as plot\n",
    "import numpy as np\n",
    "from scipy import stats\n",
    "\n",
    "url = 'https://raw.githubusercontent.com/umaimehm/Intro_to_AI_2021/main/assignment1/Ruter_data.csv'\n",
    "df = pd.read_csv(url,sep = ';')\n",
    "df.head()"
   ],
   "outputs": [
    {
     "output_type": "execute_result",
     "data": {
      "text/html": [
       "<div>\n",
       "<style scoped>\n",
       "    .dataframe tbody tr th:only-of-type {\n",
       "        vertical-align: middle;\n",
       "    }\n",
       "\n",
       "    .dataframe tbody tr th {\n",
       "        vertical-align: top;\n",
       "    }\n",
       "\n",
       "    .dataframe thead th {\n",
       "        text-align: right;\n",
       "    }\n",
       "</style>\n",
       "<table border=\"1\" class=\"dataframe\">\n",
       "  <thead>\n",
       "    <tr style=\"text-align: right;\">\n",
       "      <th></th>\n",
       "      <th>TurId</th>\n",
       "      <th>Dato</th>\n",
       "      <th>Fylke</th>\n",
       "      <th>Område</th>\n",
       "      <th>Kommune</th>\n",
       "      <th>Holdeplass_Fra</th>\n",
       "      <th>Holdeplass_Til</th>\n",
       "      <th>Linjetype</th>\n",
       "      <th>Linjefylke</th>\n",
       "      <th>Linjenavn</th>\n",
       "      <th>Linjeretning</th>\n",
       "      <th>Tidspunkt_Faktisk_Ankomst_Holdeplass_Fra</th>\n",
       "      <th>Tidspunkt_Faktisk_Avgang_Holdeplass_Fra</th>\n",
       "      <th>Tidspunkt_Planlagt_Ankomst_Holdeplass_Fra</th>\n",
       "      <th>Tidspunkt_Planlagt_Avgang_Holdeplass_Fra</th>\n",
       "      <th>Kjøretøy_Kapasitet</th>\n",
       "      <th>Passasjerer_Ombord</th>\n",
       "    </tr>\n",
       "  </thead>\n",
       "  <tbody>\n",
       "    <tr>\n",
       "      <th>0</th>\n",
       "      <td>15006-2020-08-10T10:24:00+02:00</td>\n",
       "      <td>10/08/2020</td>\n",
       "      <td>Viken</td>\n",
       "      <td>Vest</td>\n",
       "      <td>Bærum</td>\n",
       "      <td>Nordliveien</td>\n",
       "      <td>Tjernsmyr</td>\n",
       "      <td>Lokal</td>\n",
       "      <td>Viken</td>\n",
       "      <td>150</td>\n",
       "      <td>0</td>\n",
       "      <td>10:53:53</td>\n",
       "      <td>10:53:59</td>\n",
       "      <td>10:53:00</td>\n",
       "      <td>10:53:00</td>\n",
       "      <td>112</td>\n",
       "      <td>5</td>\n",
       "    </tr>\n",
       "    <tr>\n",
       "      <th>1</th>\n",
       "      <td>15002-2020-08-15T12:54:00+02:00</td>\n",
       "      <td>15/08/2020</td>\n",
       "      <td>Viken</td>\n",
       "      <td>Vest</td>\n",
       "      <td>Bærum</td>\n",
       "      <td>Nadderud stadion</td>\n",
       "      <td>Bekkestua bussterminal (Plattform C)</td>\n",
       "      <td>Lokal</td>\n",
       "      <td>Viken</td>\n",
       "      <td>150</td>\n",
       "      <td>0</td>\n",
       "      <td>13:12:20</td>\n",
       "      <td>13:12:26</td>\n",
       "      <td>13:12:00</td>\n",
       "      <td>13:12:00</td>\n",
       "      <td>112</td>\n",
       "      <td>5</td>\n",
       "    </tr>\n",
       "    <tr>\n",
       "      <th>2</th>\n",
       "      <td>15004-2020-08-03T09:54:00+02:00</td>\n",
       "      <td>03/08/2020</td>\n",
       "      <td>Viken</td>\n",
       "      <td>Vest</td>\n",
       "      <td>Bærum</td>\n",
       "      <td>Ringstabekkveien</td>\n",
       "      <td>Skallum</td>\n",
       "      <td>Lokal</td>\n",
       "      <td>Viken</td>\n",
       "      <td>150</td>\n",
       "      <td>0</td>\n",
       "      <td>10:18:56</td>\n",
       "      <td>10:19:21</td>\n",
       "      <td>10:19:00</td>\n",
       "      <td>10:19:00</td>\n",
       "      <td>112</td>\n",
       "      <td>6</td>\n",
       "    </tr>\n",
       "    <tr>\n",
       "      <th>3</th>\n",
       "      <td>15003-2020-07-27T13:00:00+02:00</td>\n",
       "      <td>27/07/2020</td>\n",
       "      <td>Viken</td>\n",
       "      <td>Vest</td>\n",
       "      <td>Bærum</td>\n",
       "      <td>Gruvemyra</td>\n",
       "      <td>Gullhaug</td>\n",
       "      <td>Lokal</td>\n",
       "      <td>Viken</td>\n",
       "      <td>150</td>\n",
       "      <td>1</td>\n",
       "      <td>13:52:04</td>\n",
       "      <td>13:52:26</td>\n",
       "      <td>13:51:00</td>\n",
       "      <td>13:51:00</td>\n",
       "      <td>112</td>\n",
       "      <td>10</td>\n",
       "    </tr>\n",
       "    <tr>\n",
       "      <th>4</th>\n",
       "      <td>15002-2020-08-27T07:15:00+02:00</td>\n",
       "      <td>27/08/2020</td>\n",
       "      <td>Viken</td>\n",
       "      <td>Vest</td>\n",
       "      <td>Bærum</td>\n",
       "      <td>Lysaker stasjon (Plattform A)</td>\n",
       "      <td>Tjernsmyr</td>\n",
       "      <td>Lokal</td>\n",
       "      <td>Viken</td>\n",
       "      <td>150</td>\n",
       "      <td>1</td>\n",
       "      <td>07:34:13</td>\n",
       "      <td>07:34:53</td>\n",
       "      <td>07:33:00</td>\n",
       "      <td>07:33:00</td>\n",
       "      <td>112</td>\n",
       "      <td>10</td>\n",
       "    </tr>\n",
       "  </tbody>\n",
       "</table>\n",
       "</div>"
      ],
      "text/plain": [
       "                             TurId        Dato  Fylke Område Kommune  \\\n",
       "0  15006-2020-08-10T10:24:00+02:00  10/08/2020  Viken   Vest   Bærum   \n",
       "1  15002-2020-08-15T12:54:00+02:00  15/08/2020  Viken   Vest   Bærum   \n",
       "2  15004-2020-08-03T09:54:00+02:00  03/08/2020  Viken   Vest   Bærum   \n",
       "3  15003-2020-07-27T13:00:00+02:00  27/07/2020  Viken   Vest   Bærum   \n",
       "4  15002-2020-08-27T07:15:00+02:00  27/08/2020  Viken   Vest   Bærum   \n",
       "\n",
       "                  Holdeplass_Fra                        Holdeplass_Til  \\\n",
       "0                    Nordliveien                             Tjernsmyr   \n",
       "1               Nadderud stadion  Bekkestua bussterminal (Plattform C)   \n",
       "2               Ringstabekkveien                               Skallum   \n",
       "3                      Gruvemyra                              Gullhaug   \n",
       "4  Lysaker stasjon (Plattform A)                             Tjernsmyr   \n",
       "\n",
       "  Linjetype Linjefylke Linjenavn  Linjeretning  \\\n",
       "0     Lokal      Viken       150             0   \n",
       "1     Lokal      Viken       150             0   \n",
       "2     Lokal      Viken       150             0   \n",
       "3     Lokal      Viken       150             1   \n",
       "4     Lokal      Viken       150             1   \n",
       "\n",
       "  Tidspunkt_Faktisk_Ankomst_Holdeplass_Fra  \\\n",
       "0                                 10:53:53   \n",
       "1                                 13:12:20   \n",
       "2                                 10:18:56   \n",
       "3                                 13:52:04   \n",
       "4                                 07:34:13   \n",
       "\n",
       "  Tidspunkt_Faktisk_Avgang_Holdeplass_Fra  \\\n",
       "0                                10:53:59   \n",
       "1                                13:12:26   \n",
       "2                                10:19:21   \n",
       "3                                13:52:26   \n",
       "4                                07:34:53   \n",
       "\n",
       "  Tidspunkt_Planlagt_Ankomst_Holdeplass_Fra  \\\n",
       "0                                  10:53:00   \n",
       "1                                  13:12:00   \n",
       "2                                  10:19:00   \n",
       "3                                  13:51:00   \n",
       "4                                  07:33:00   \n",
       "\n",
       "  Tidspunkt_Planlagt_Avgang_Holdeplass_Fra  Kjøretøy_Kapasitet  \\\n",
       "0                                 10:53:00                 112   \n",
       "1                                 13:12:00                 112   \n",
       "2                                 10:19:00                 112   \n",
       "3                                 13:51:00                 112   \n",
       "4                                 07:33:00                 112   \n",
       "\n",
       "   Passasjerer_Ombord  \n",
       "0                   5  \n",
       "1                   5  \n",
       "2                   6  \n",
       "3                  10  \n",
       "4                  10  "
      ]
     },
     "metadata": {},
     "execution_count": 1
    }
   ],
   "metadata": {}
  },
  {
   "cell_type": "code",
   "execution_count": 2,
   "source": [
    "# Parse dates and times\n",
    "df['Dato'] = pd.to_datetime(df['Dato'], errors='coerce')\n",
    "\n",
    "df['Tidspunkt_Faktisk_Ankomst_Holdeplass_Fra']  = pd.to_datetime(df['Tidspunkt_Faktisk_Ankomst_Holdeplass_Fra'],    errors='coerce')\n",
    "df['Tidspunkt_Faktisk_Avgang_Holdeplass_Fra']   = pd.to_datetime(df['Tidspunkt_Faktisk_Avgang_Holdeplass_Fra'],     errors='coerce')\n",
    "df['Tidspunkt_Planlagt_Ankomst_Holdeplass_Fra'] = pd.to_datetime(df['Tidspunkt_Planlagt_Ankomst_Holdeplass_Fra'],   errors='coerce')\n",
    "df['Tidspunkt_Planlagt_Avgang_Holdeplass_Fra']  = pd.to_datetime(df['Tidspunkt_Planlagt_Avgang_Holdeplass_Fra'],    errors='coerce')"
   ],
   "outputs": [],
   "metadata": {}
  },
  {
   "cell_type": "code",
   "execution_count": 3,
   "source": [
    "# Calculate delay\n",
    "df['Forsinkelse_Ankomst_Holdeplass_Fra'] = df['Tidspunkt_Faktisk_Ankomst_Holdeplass_Fra'] - df['Tidspunkt_Planlagt_Ankomst_Holdeplass_Fra']\n",
    "df['Forsinkelse_Avgang_Holdeplass_Fra'] = df['Tidspunkt_Faktisk_Avgang_Holdeplass_Fra'] - df['Tidspunkt_Planlagt_Avgang_Holdeplass_Fra']\n",
    "\n",
    "# Calculate time spent at bus stop\n",
    "df['Tid_Brukt_På_Holdeplass'] = df['Tidspunkt_Faktisk_Avgang_Holdeplass_Fra'] - df['Tidspunkt_Faktisk_Ankomst_Holdeplass_Fra']"
   ],
   "outputs": [],
   "metadata": {}
  },
  {
   "cell_type": "code",
   "execution_count": 4,
   "source": [
    "antall = df.groupby('Kommune')['Linjenavn'].nunique()\n",
    "antall\n",
    "\n",
    "plot.figure()\n",
    "plot.barh(width=antall, y=antall.index)\n",
    "plot.title('Number of Bus Lines per Municipality')\n",
    "plot.xlabel('Number of Bus Lines')\n",
    "plot.ylabel('Municipality')\n",
    "plot.rcParams['figure.figsize']=30,20\n",
    "plot.show()"
   ],
   "outputs": [
    {
     "output_type": "display_data",
     "data": {
      "image/png": "[encoded data removed]",
      "text/plain": [
       "<Figure size 432x288 with 1 Axes>"
      ]
     },
     "metadata": {
      "needs_background": "light"
     }
    }
   ],
   "metadata": {}
  },
  {
   "cell_type": "code",
   "execution_count": 5,
   "source": [
    "# Ledig plasser\n",
    "df['Ledige_Plasser'] = 100 - ((df['Passasjerer_Ombord'] / df['Kjøretøy_Kapasitet']) * 100)"
   ],
   "outputs": [],
   "metadata": {}
  },
  {
   "cell_type": "code",
   "execution_count": 6,
   "source": [
    "df['Timer'] = df['Tidspunkt_Faktisk_Ankomst_Holdeplass_Fra'].astype(str).str[:2]\n",
    "\n",
    "antall = df.groupby('Timer')['Ledige_Plasser'].mean()\n",
    "antall\n",
    "\n",
    "plot.figure()\n",
    "plot.barh(width=antall, y=antall.index)\n",
    "plot.title('Antall ledig plasser per time')\n",
    "plot.xlabel('Ledige Plasser')\n",
    "plot.ylabel('Time')\n",
    "plot.rcParams['figure.figsize']=10,15\n",
    "plot.show()"
   ],
   "outputs": [
    {
     "output_type": "display_data",
     "data": {
      "image/png": "[encoded data removed]",
      "text/plain": [
       "<Figure size 2160x1440 with 1 Axes>"
      ]
     },
     "metadata": {
      "needs_background": "light"
     }
    }
   ],
   "metadata": {}
  }
 ],
 "metadata": {
  "interpreter": {
   "hash": "31f2aee4e71d21fbe5cf8b01ff0e069b9275f58929596ceb00d14d90e3e16cd6"
  },
  "kernelspec": {
   "display_name": "Python 3 (ipykernel)",
   "language": "python",
   "name": "python3"
  },
  "language_info": {
   "codemirror_mode": {
    "name": "ipython",
    "version": 3
   },
   "file_extension": ".py",
   "mimetype": "text/x-python",
   "name": "python",
   "nbconvert_exporter": "python",
   "pygments_lexer": "ipython3",
   "version": "3.8.11"
  }
 },
 "nbformat": 4,
 "nbformat_minor": 5
}